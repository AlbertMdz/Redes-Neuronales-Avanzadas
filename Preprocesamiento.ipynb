{
  "nbformat": 4,
  "nbformat_minor": 0,
  "metadata": {
    "colab": {
      "name": "Preprocesamiento.ipynb",
      "provenance": [],
      "machine_shape": "hm",
      "include_colab_link": true
    },
    "kernelspec": {
      "name": "python3",
      "display_name": "Python 3"
    }
  },
  "cells": [
    {
      "cell_type": "markdown",
      "metadata": {
        "id": "view-in-github",
        "colab_type": "text"
      },
      "source": [
        "<a href=\"https://colab.research.google.com/github/AlbertMdz/Redes-Neuronales-Avanzadas/blob/master/Preprocesamiento.ipynb\" target=\"_parent\"><img src=\"https://colab.research.google.com/assets/colab-badge.svg\" alt=\"Open In Colab\"/></a>"
      ]
    },
    {
      "cell_type": "code",
      "metadata": {
        "id": "cSwWB-VTVSsV",
        "colab_type": "code",
        "outputId": "6d9d1d01-2e63-4d7a-d26e-7adc918eee3a",
        "colab": {
          "base_uri": "https://localhost:8080/",
          "height": 34
        }
      },
      "source": [
        "from google.colab import drive\n",
        "drive.mount('/content/drive') "
      ],
      "execution_count": 13,
      "outputs": [
        {
          "output_type": "stream",
          "text": [
            "Drive already mounted at /content/drive; to attempt to forcibly remount, call drive.mount(\"/content/drive\", force_remount=True).\n"
          ],
          "name": "stdout"
        }
      ]
    },
    {
      "cell_type": "code",
      "metadata": {
        "id": "BpI2tKazCcc0",
        "colab_type": "code",
        "outputId": "6f80f117-4d34-4380-ffd5-f03cb756b954",
        "colab": {
          "base_uri": "https://localhost:8080/",
          "height": 212
        }
      },
      "source": [
        "!wget https://raw.githubusercontent.com/opencv/opencv/master/data/haarcascades/haarcascade_frontalface_default.xml "
      ],
      "execution_count": 14,
      "outputs": [
        {
          "output_type": "stream",
          "text": [
            "--2019-12-07 00:36:30--  https://raw.githubusercontent.com/opencv/opencv/master/data/haarcascades/haarcascade_frontalface_default.xml\n",
            "Resolving raw.githubusercontent.com (raw.githubusercontent.com)... 151.101.0.133, 151.101.64.133, 151.101.128.133, ...\n",
            "Connecting to raw.githubusercontent.com (raw.githubusercontent.com)|151.101.0.133|:443... connected.\n",
            "HTTP request sent, awaiting response... 200 OK\n",
            "Length: 930127 (908K) [text/plain]\n",
            "Saving to: ‘haarcascade_frontalface_default.xml.1’\n",
            "\n",
            "\r          haarcasca   0%[                    ]       0  --.-KB/s               \rhaarcascade_frontal 100%[===================>] 908.33K  --.-KB/s    in 0.08s   \n",
            "\n",
            "2019-12-07 00:36:30 (11.7 MB/s) - ‘haarcascade_frontalface_default.xml.1’ saved [930127/930127]\n",
            "\n"
          ],
          "name": "stdout"
        }
      ]
    },
    {
      "cell_type": "code",
      "metadata": {
        "id": "QzGUYvJtVc1C",
        "colab_type": "code",
        "colab": {}
      },
      "source": [
        "from IPython.display import  clear_output\n",
        "import cv2\n",
        "import json\n",
        "import numpy as np\n",
        "import zipfile\n",
        "from os import listdir\n",
        "from os.path import isfile, join\n",
        "import matplotlib.pyplot as plt\n",
        "import matplotlib.image as mpimg\n",
        "import time\n",
        "import copy\n",
        "import random\n",
        "import pickle\n"
      ],
      "execution_count": 0,
      "outputs": []
    },
    {
      "cell_type": "code",
      "metadata": {
        "id": "Io7dZJgDZr3c",
        "colab_type": "code",
        "outputId": "0624e7b6-67a1-462a-ec73-7a64ba8defd0",
        "colab": {
          "base_uri": "https://localhost:8080/",
          "height": 72
        }
      },
      "source": [
        "mypath=\"/content/drive/My Drive/etiquetado\" \n",
        "print (listdir(mypath),len(listdir(mypath)))\n",
        "mypath2=\"/content/drive/My Drive/imagenes\" \n",
        "print (listdir(mypath2),len(listdir(mypath2)))"
      ],
      "execution_count": 16,
      "outputs": [
        {
          "output_type": "stream",
          "text": [
            "['ENTJ-JoseMorales.json', 'ENTJ_JesusEnriquez.json', 'ENFP-DavidMiguel.json', 'ENFP_JoseNochebuena.json', 'ENFJ-AlbertoMendoza.json', 'ENFJ-ByronGonz.json', 'ISTJ_IsraelPrado.json', 'ISTJ_AlvaroAnzueto.json', 'ISTJ_AlvaroAnzueto(1).json', 'ISFP-DavidJesus3.json', 'INFP-JaimeVega.json', 'ISFP_ElizabethLopez.json', 'ESTP-RobertoLopez.json', 'INFP-AlejandraCamacho.json', 'ESFJ - OmarVelazquez.json', 'ESTJ-LuMacs.json', 'ESTP-JoseMartinez.json', 'ESTJ-ManuelLukas.json', 'ENTP-RosaTorres.json', 'ENTP-HeriLopez.json'] 20\n",
            "['INFP-AlejandraCamacho', 'ESTJ-ManuelLukas', 'ESTP-JoseMartinez', 'INFP-JaimeVega', 'ISFP_ElizabethLopez', 'ISFP-DavidJesus', 'ISTJ_AlvaroAnzueto', 'ESTP-RobertoLopez', 'ISTJ_IsraelPrado', 'ESFJ - OmarVelazquez', 'ESTJ-LuMacs', 'ENFJ-AlbertoMendoza', 'ENTJ_JesusEnriquez', 'ENTJ-JoseMorales', 'ENTP-HeriLopez', 'ENTP-RosaTorres', 'ENFP-JoseNochebuena', 'ENFP-DavidMiguel', 'ENFJ-ByronGonz'] 19\n"
          ],
          "name": "stdout"
        }
      ]
    },
    {
      "cell_type": "code",
      "metadata": {
        "id": "mTWUCxjdktPI",
        "colab_type": "code",
        "outputId": "31c5d757-91f6-429f-d302-55e3972dd8a4",
        "colab": {
          "base_uri": "https://localhost:8080/",
          "height": 54
        }
      },
      "source": [
        "collection=[] \n",
        "for f in listdir(mypath):\n",
        "  for x in listdir(mypath2):\n",
        "    if x.startswith (f[:8],0,8):\n",
        "      collection.append([mypath+\"/\"+f,mypath2+\"/\"+x]) \n",
        "      break                                            \n",
        "print(collection)                                      "
      ],
      "execution_count": 17,
      "outputs": [
        {
          "output_type": "stream",
          "text": [
            "[['/content/drive/My Drive/etiquetado/ENTJ-JoseMorales.json', '/content/drive/My Drive/imagenes/ENTJ-JoseMorales'], ['/content/drive/My Drive/etiquetado/ENTJ_JesusEnriquez.json', '/content/drive/My Drive/imagenes/ENTJ_JesusEnriquez'], ['/content/drive/My Drive/etiquetado/ENFP-DavidMiguel.json', '/content/drive/My Drive/imagenes/ENFP-DavidMiguel'], ['/content/drive/My Drive/etiquetado/ENFJ-AlbertoMendoza.json', '/content/drive/My Drive/imagenes/ENFJ-AlbertoMendoza'], ['/content/drive/My Drive/etiquetado/ENFJ-ByronGonz.json', '/content/drive/My Drive/imagenes/ENFJ-ByronGonz'], ['/content/drive/My Drive/etiquetado/ISTJ_IsraelPrado.json', '/content/drive/My Drive/imagenes/ISTJ_IsraelPrado'], ['/content/drive/My Drive/etiquetado/ISTJ_AlvaroAnzueto.json', '/content/drive/My Drive/imagenes/ISTJ_AlvaroAnzueto'], ['/content/drive/My Drive/etiquetado/ISTJ_AlvaroAnzueto(1).json', '/content/drive/My Drive/imagenes/ISTJ_AlvaroAnzueto'], ['/content/drive/My Drive/etiquetado/ISFP-DavidJesus3.json', '/content/drive/My Drive/imagenes/ISFP-DavidJesus'], ['/content/drive/My Drive/etiquetado/INFP-JaimeVega.json', '/content/drive/My Drive/imagenes/INFP-JaimeVega'], ['/content/drive/My Drive/etiquetado/ISFP_ElizabethLopez.json', '/content/drive/My Drive/imagenes/ISFP_ElizabethLopez'], ['/content/drive/My Drive/etiquetado/ESTP-RobertoLopez.json', '/content/drive/My Drive/imagenes/ESTP-RobertoLopez'], ['/content/drive/My Drive/etiquetado/INFP-AlejandraCamacho.json', '/content/drive/My Drive/imagenes/INFP-AlejandraCamacho'], ['/content/drive/My Drive/etiquetado/ESFJ - OmarVelazquez.json', '/content/drive/My Drive/imagenes/ESFJ - OmarVelazquez'], ['/content/drive/My Drive/etiquetado/ESTJ-LuMacs.json', '/content/drive/My Drive/imagenes/ESTJ-LuMacs'], ['/content/drive/My Drive/etiquetado/ESTP-JoseMartinez.json', '/content/drive/My Drive/imagenes/ESTP-JoseMartinez'], ['/content/drive/My Drive/etiquetado/ESTJ-ManuelLukas.json', '/content/drive/My Drive/imagenes/ESTJ-ManuelLukas'], ['/content/drive/My Drive/etiquetado/ENTP-RosaTorres.json', '/content/drive/My Drive/imagenes/ENTP-RosaTorres'], ['/content/drive/My Drive/etiquetado/ENTP-HeriLopez.json', '/content/drive/My Drive/imagenes/ENTP-HeriLopez']]\n"
          ],
          "name": "stdout"
        }
      ]
    },
    {
      "cell_type": "code",
      "metadata": {
        "id": "b4ID9XlAThpd",
        "colab_type": "code",
        "colab": {}
      },
      "source": [
        "face_cascade = cv2.CascadeClassifier('haarcascade_frontalface_default.xml') \n",
        "def faceinimage(imagen):\n",
        "  faces=face_cascade.detectMultiScale(imagen,1.3, 5)\n",
        "  try:\n",
        "    if (faces[0][0]):\n",
        "      return 1     \n",
        "  except:\n",
        "    return 0"
      ],
      "execution_count": 0,
      "outputs": []
    },
    {
      "cell_type": "code",
      "metadata": {
        "id": "iIlLoLS_AwWm",
        "colab_type": "code",
        "colab": {}
      },
      "source": [
        "IMAGENES=[] \n",
        "for X in collection[:]:\n",
        "  jsonpath=X[0]\n",
        "  imagens=X[1]\n",
        "  with open(jsonpath,'r') as jsonfile:\n",
        "    etiquetas = json.load(jsonfile)\n",
        "  for name in etiquetas.keys():\n",
        "    clear_output()\n",
        "    direction=imagens+\"/\"+name\n",
        "    try:\n",
        "      X1=int(etiquetas[name][0][\"ClassSet1\"][0][\"Coords\"][\"x1\"])\n",
        "      X2=int(etiquetas[name][0][\"ClassSet1\"][0][\"Coords\"][\"x2\"])\n",
        "      Y1=int(etiquetas[name][0][\"ClassSet1\"][0][\"Coords\"][\"y1\"])\n",
        "      Y2=int(etiquetas[name][0][\"ClassSet1\"][0][\"Coords\"][\"y2\"])\n",
        "      etiqueta=etiquetas[name][0][\"ClassSet1\"][0][\"Classname1\"][\"opt\"]\n",
        "      imagen=cv2.imread(direction,cv2.IMREAD_COLOR)           \n",
        "      cropimagen=imagen[min(Y1,Y2):max(Y1,Y2),min(X1,X2):max(X1,X2)] \n",
        "    except:\n",
        "      continue                                                       \n",
        "    if faceinimage(cropimagen):\n",
        "      IMAGENES.append([cropimagen,etiqueta])    \n",
        "    else:\n",
        "      try:      \n",
        "        faces=face_cascade.detectMultiScale(imagen,1.3, 5)\n",
        "        x,y,w,h=tuple(faces[0])\n",
        "        cropimagen=imagen[y:y+h,x:x+w]\n",
        "        etiqueta=etiquetas[name][0][\"ClassSet1\"][0][\"Classname1\"][\"opt\"]\n",
        "        IMAGENES.append([cropimagen,etiqueta])\n",
        "      except:     \n",
        "        continue\n",
        "\n",
        "    "
      ],
      "execution_count": 0,
      "outputs": []
    },
    {
      "cell_type": "code",
      "metadata": {
        "id": "zHZf26qZC_WW",
        "colab_type": "code",
        "colab": {}
      },
      "source": [
        "def crearsets(Lista,Nbatches,test_size=0.1):\n",
        "  test=[]\n",
        "  Batches=[]\n",
        "  Listatemp=copy.deepcopy(Lista)\n",
        "  random.shuffle(Listatemp)   \n",
        "  arraytemp=np.array(Listatemp)\n",
        "  Size,features=arraytemp.shape\n",
        "  tamaño=Size//Nbatches\n",
        "  for NB in range(Nbatches):     \n",
        "    try:\n",
        "      x=arraytemp[NB*tamaño:(NB*tamaño)+tamaño,0]\n",
        "      y=arraytemp[NB*tamaño:(NB*tamaño)+tamaño,1]\n",
        "    except:\n",
        "      pass\n",
        "    batch=[]\n",
        "    for i in range (len(x)):\n",
        "      if (i<tamaño*test_size): \n",
        "        test.append(x[i])\n",
        "        test.append(y[i])\n",
        "      else :\n",
        "        batch.append(x[i])      \n",
        "        batch.append(y[i])\n",
        "    with open(\"/content/drive/My Drive/\"+'Personality_v4_'+str(NB)+'.pickle','wb') as f:\n",
        "            pickle.dump(batch,f)\n",
        "        \n",
        "  with open(\"/content/drive/My Drive/\"+'Personality_v4_'+\"test\"+'.pickle','wb') as f:\n",
        "        pickle.dump(test,f)\n",
        "  return (Batches,test)"
      ],
      "execution_count": 0,
      "outputs": []
    },
    {
      "cell_type": "code",
      "metadata": {
        "id": "vbkvKPRbR1Od",
        "colab_type": "code",
        "colab": {}
      },
      "source": [
        "train,test=crearsets(IMAGENES,3) "
      ],
      "execution_count": 0,
      "outputs": []
    },
    {
      "cell_type": "code",
      "metadata": {
        "colab_type": "code",
        "id": "mbuzg5Jc4A2D",
        "colab": {}
      },
      "source": [
        "with open('/content/drive/My Drive/ProyectoFinal/Personality_test.pickle','rb') as f:\n",
        "    train2=pickle.load(f)"
      ],
      "execution_count": 0,
      "outputs": []
    },
    {
      "cell_type": "code",
      "metadata": {
        "id": "VwyId4HdyUhs",
        "colab_type": "code",
        "outputId": "3b4a259e-8adc-4188-ecda-db799406ecba",
        "colab": {
          "base_uri": "https://localhost:8080/",
          "height": 34
        }
      },
      "source": [
        "train2[1]"
      ],
      "execution_count": 0,
      "outputs": [
        {
          "output_type": "execute_result",
          "data": {
            "text/plain": [
              "'Analistas'"
            ]
          },
          "metadata": {
            "tags": []
          },
          "execution_count": 368
        }
      ]
    },
    {
      "cell_type": "code",
      "metadata": {
        "id": "NiL3THN8AcKs",
        "colab_type": "code",
        "colab": {}
      },
      "source": [
        "train2[0]"
      ],
      "execution_count": 0,
      "outputs": []
    }
  ]
}